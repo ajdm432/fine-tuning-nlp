{
 "cells": [
  {
   "cell_type": "code",
   "execution_count": null,
   "metadata": {},
   "outputs": [],
   "source": [
    "MAX_SEQ_LENGTH = 4096"
   ]
  },
  {
   "cell_type": "markdown",
   "metadata": {},
   "source": [
    "### Load Data"
   ]
  },
  {
   "cell_type": "code",
   "execution_count": null,
   "metadata": {},
   "outputs": [],
   "source": [
    "from datasets import load_dataset\n",
    "\n",
    "DATA_NAME = \"cnn_dailymail\"\n",
    "SUBSET = \"2.0.0\"\n",
    "DATA_PATH = \"data/cnn_dailymail\"\n",
    "FRAC = 0.1\n",
    "\n",
    "def save_fraction_dataset(dataset_name, fraction, save_name, subset=None):\n",
    "    if subset is not None:\n",
    "        data = load_dataset(dataset_name, name=subset, cache_dir=None)\n",
    "    else:\n",
    "        data = load_dataset(dataset_name, cache_dir=None)\n",
    "\n",
    "    splits = data.keys()\n",
    "    for split in splits:\n",
    "        splitdata = data[split]\n",
    "        num_to_keep = int(len(splitdata) * fraction)\n",
    "        indices = list(range(len(splitdata)))\n",
    "        # randomly shuffle if you want\n",
    "        # random.shuffle(indices)\n",
    "        data[split] = splitdata.select(indices[:num_to_keep])\n",
    "\n",
    "    # save data\n",
    "    data.save_to_disk(save_name)\n",
    "\n",
    "save_fraction_dataset(DATA_NAME, FRAC, DATA_PATH, SUBSET)"
   ]
  },
  {
   "cell_type": "code",
   "execution_count": null,
   "metadata": {},
   "outputs": [],
   "source": [
    "from datasets import load_from_disk\n",
    "data = load_from_disk(DATA_PATH)\n",
    "train_data = data[\"train\"]\n",
    "val_data = data[\"validation\"]\n",
    "test_data = data[\"test\"]"
   ]
  },
  {
   "cell_type": "markdown",
   "metadata": {},
   "source": [
    "### Format Data"
   ]
  },
  {
   "cell_type": "code",
   "execution_count": null,
   "metadata": {},
   "outputs": [],
   "source": [
    "def promptify_data(examples):\n",
    "    articles = examples['article']\n",
    "    summaries = examples['highlights']\n",
    "    texts = []\n",
    "    for article, summary in zip(articles, summaries):\n",
    "        text = f\"### Article: {article}\\n### Summary: {summary}\"\n",
    "        texts.append(text)\n",
    "    return {\"text\" : texts,}\n",
    "\n",
    "# format dataset\n",
    "train_data = train_data.map(promptify_data, batched=True)\n",
    "val_data = val_data.map(promptify_data, batched=True)\n"
   ]
  },
  {
   "cell_type": "markdown",
   "metadata": {},
   "source": [
    "### Training"
   ]
  },
  {
   "cell_type": "code",
   "execution_count": null,
   "metadata": {},
   "outputs": [],
   "source": [
    "import torch\n",
    "from datasets import load_dataset, load_from_disk, disable_caching\n",
    "from transformers import (\n",
    "    TrainingArguments,\n",
    "    BitsAndBytesConfig,\n",
    "    AutoModelForCausalLM,\n",
    "    AutoTokenizer,\n",
    ")\n",
    "from trl import SFTTrainer\n",
    "from modeleval import evaluate_model\n",
    "from peft import prepare_model_for_kbit_training, LoraConfig"
   ]
  },
  {
   "cell_type": "code",
   "execution_count": null,
   "metadata": {},
   "outputs": [],
   "source": [
    "compute_dtype = getattr(torch, \"float16\")\n",
    "bnb_config = BitsAndBytesConfig(load_in_4bit=True,\n",
    "            bnb_4bit_quant_type=\"nf4\",\n",
    "            bnb_4bit_compute_dtype=compute_dtype,\n",
    "            bnb_4bit_use_double_quant=True,\n",
    ")\n",
    "model = AutoModelForCausalLM.from_pretrained('sarvamai/OpenHathi-7B-Hi-v0.1-Base', cache_dir = \"./hub\", quantization_config=bnb_config, device_map={\"\": 0})\n",
    "model = prepare_model_for_kbit_training(model)"
   ]
  },
  {
   "cell_type": "code",
   "execution_count": null,
   "metadata": {},
   "outputs": [],
   "source": [
    "tokenizer = AutoTokenizer.from_pretrained('sarvamai/OpenHathi-7B-Hi-v0.1-Base', use_fast=True, add_eos_token=True)\n",
    "tokenizer.pad_token = tokenizer.unk_token\n",
    "tokenizer.padding_side = \"left\""
   ]
  },
  {
   "cell_type": "code",
   "execution_count": null,
   "metadata": {},
   "outputs": [],
   "source": [
    "peft_config = LoraConfig(\n",
    "    lora_alpha=16, \n",
    "    lora_dropout=0.05,\n",
    "    r=16,\n",
    "    bias=\"none\",\n",
    "    task_type=\"CAUSAL_LM\",\n",
    "    target_modules= [\"down_proj\",\"up_proj\",\"gate_proj\"]\n",
    ")"
   ]
  },
  {
   "cell_type": "code",
   "execution_count": null,
   "metadata": {},
   "outputs": [],
   "source": [
    "training_arguments = TrainingArguments(\n",
    "        output_dir=\"./results/\",\n",
    "        evaluation_strategy=\"steps\",\n",
    "        optim=\"paged_adamw_8bit\",\n",
    "        save_steps=50,\n",
    "        log_level=\"debug\",\n",
    "        logging_steps=100,\n",
    "        learning_rate=1e-4,\n",
    "        eval_steps=100,\n",
    "        fp16=True,\n",
    "        do_eval=True,\n",
    "        per_device_train_batch_size=32,\n",
    "        per_device_eval_batch_size=32,\n",
    "        gradient_accumulation_steps=3,\n",
    "        warmup_steps=100,\n",
    "        max_steps=3000,\n",
    "        lr_scheduler_type=\"linear\"\n",
    ")"
   ]
  },
  {
   "cell_type": "code",
   "execution_count": null,
   "metadata": {},
   "outputs": [],
   "source": [
    "# create trainer object\n",
    "trainer = SFTTrainer(\n",
    "    model=model,\n",
    "    tokenizer=tokenizer,\n",
    "    train_dataset=train_data,\n",
    "    eval_dataset=val_data,\n",
    "    peft_config=peft_config,\n",
    "    dataset_text_field=\"text\",\n",
    "    max_seq_length=MAX_SEQ_LENGTH,\n",
    "    args=training_arguments,\n",
    "    packing=False,\n",
    ")"
   ]
  },
  {
   "cell_type": "code",
   "execution_count": null,
   "metadata": {},
   "outputs": [],
   "source": [
    "trainer.train()"
   ]
  },
  {
   "cell_type": "markdown",
   "metadata": {},
   "source": [
    "### Eval"
   ]
  },
  {
   "cell_type": "code",
   "execution_count": null,
   "metadata": {},
   "outputs": [],
   "source": [
    "from tqdm import tqdm\n",
    "import evaluate\n",
    "\n",
    "METRIC = \"rouge\"\n",
    "MAX_SEQ_LENGTH = 4096\n",
    "MAX_OUT_LENGTH = 1000\n",
    "NUM_EXAMPLES = 5\n",
    "\n",
    "metric = evaluate.load(METRIC)\n",
    "\n",
    "def promptify_single(article):\n",
    "    return f\"###Article: {article}\\n### Summary:\"\n",
    "\n",
    "def example_input_output(model, tokenizer, data):\n",
    "    print(\"\\nExample Input/Output...\\n\")\n",
    "    for i in range(NUM_EXAMPLES):\n",
    "        prompt = promptify_single(data[\"article\"][i])\n",
    "        print(\"INPUT:\")\n",
    "        print(prompt)\n",
    "        tokens = tokenizer(prompt, return_tensors='pt')\n",
    "        tok_len = tokens[\"input_ids\"].shape[1]\n",
    "        model_out = model.generate(**tokens,\n",
    "                                   do_sample=True,\n",
    "                                   temperature=0.1,\n",
    "                                   output_scores=True,\n",
    "                                   max_new_tokens=MAX_OUT_LENGTH,)\n",
    "        new_tokens = model_out[0, tok_len:]\n",
    "        output = tokenizer.decode(new_tokens, skip_special_tokens=True)\n",
    "        print(\"OUTPUT:\")\n",
    "        print(output)\n",
    "\n",
    "def rouge_test(model, tokenizer, data):\n",
    "    print(\"\\nTesting Model...\\n\")\n",
    "    outputs = []\n",
    "    targets = data[\"highlights\"]\n",
    "    for model_in in tqdm(data[\"article\"]):\n",
    "        prompt = promptify_single(model_in)\n",
    "        tokens = tokenizer(prompt, return_tensors='pt')\n",
    "        tok_len = tokens[\"input_ids\"].shape[1]\n",
    "        model_out = model.generate(**tokens,\n",
    "                                   do_sample=True,\n",
    "                                   temperature=0.1,\n",
    "                                   output_scores=True,\n",
    "                                   max_new_tokens=MAX_OUT_LENGTH,)\n",
    "        new_tokens = model_out[0, tok_len:]\n",
    "        output = tokenizer.decode(new_tokens, skip_special_tokens=True)\n",
    "        outputs.append(output)\n",
    "\n",
    "    results = metric.compute(predictions=outputs, references=targets)\n",
    "    rouge1 = results['rouge1']\n",
    "    rouge2 = results['rouge2']\n",
    "    rougeL = results['rougeL']\n",
    "    rougeLsum = results['rougeLsum']\n",
    "    print(f\"Rouge test results:\\nrouge1:{rouge1}\\nrouge2:{rouge2}\\nrougeL:{rougeL}\\nrougeLSum:{rougeLsum}\")"
   ]
  },
  {
   "cell_type": "code",
   "execution_count": null,
   "metadata": {},
   "outputs": [],
   "source": [
    "example_input_output(model, tokenizer, test_data)"
   ]
  },
  {
   "cell_type": "code",
   "execution_count": null,
   "metadata": {},
   "outputs": [],
   "source": [
    "rouge_test(model, tokenizer, test_data)"
   ]
  }
 ],
 "metadata": {
  "language_info": {
   "name": "python"
  }
 },
 "nbformat": 4,
 "nbformat_minor": 2
}
